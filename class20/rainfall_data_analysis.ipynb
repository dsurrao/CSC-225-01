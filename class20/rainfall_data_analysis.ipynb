{
 "cells": [
  {
   "cell_type": "code",
   "execution_count": 1,
   "metadata": {},
   "outputs": [],
   "source": [
    "import numpy as np\n",
    "import pandas as pd"
   ]
  },
  {
   "cell_type": "markdown",
   "metadata": {},
   "source": [
    "### Read rainfall data"
   ]
  },
  {
   "cell_type": "code",
   "execution_count": 2,
   "metadata": {},
   "outputs": [
    {
     "data": {
      "text/html": [
       "<div>\n",
       "<style scoped>\n",
       "    .dataframe tbody tr th:only-of-type {\n",
       "        vertical-align: middle;\n",
       "    }\n",
       "\n",
       "    .dataframe tbody tr th {\n",
       "        vertical-align: top;\n",
       "    }\n",
       "\n",
       "    .dataframe thead th {\n",
       "        text-align: right;\n",
       "    }\n",
       "</style>\n",
       "<table border=\"1\" class=\"dataframe\">\n",
       "  <thead>\n",
       "    <tr style=\"text-align: right;\">\n",
       "      <th></th>\n",
       "      <th>STATION</th>\n",
       "      <th>STATION_NAME</th>\n",
       "      <th>DATE</th>\n",
       "      <th>PRCP</th>\n",
       "      <th>SNWD</th>\n",
       "      <th>SNOW</th>\n",
       "      <th>TMAX</th>\n",
       "      <th>TMIN</th>\n",
       "      <th>AWND</th>\n",
       "      <th>WDF2</th>\n",
       "      <th>WDF5</th>\n",
       "      <th>WSF2</th>\n",
       "      <th>WSF5</th>\n",
       "      <th>WT01</th>\n",
       "      <th>WT05</th>\n",
       "      <th>WT02</th>\n",
       "      <th>WT03</th>\n",
       "    </tr>\n",
       "  </thead>\n",
       "  <tbody>\n",
       "    <tr>\n",
       "      <th>0</th>\n",
       "      <td>GHCND:USW00024233</td>\n",
       "      <td>SEATTLE TACOMA INTERNATIONAL AIRPORT WA US</td>\n",
       "      <td>20140101</td>\n",
       "      <td>0</td>\n",
       "      <td>0</td>\n",
       "      <td>0</td>\n",
       "      <td>72</td>\n",
       "      <td>33</td>\n",
       "      <td>12</td>\n",
       "      <td>340</td>\n",
       "      <td>310</td>\n",
       "      <td>36</td>\n",
       "      <td>40</td>\n",
       "      <td>-9999</td>\n",
       "      <td>-9999</td>\n",
       "      <td>-9999</td>\n",
       "      <td>-9999</td>\n",
       "    </tr>\n",
       "    <tr>\n",
       "      <th>1</th>\n",
       "      <td>GHCND:USW00024233</td>\n",
       "      <td>SEATTLE TACOMA INTERNATIONAL AIRPORT WA US</td>\n",
       "      <td>20140102</td>\n",
       "      <td>41</td>\n",
       "      <td>0</td>\n",
       "      <td>0</td>\n",
       "      <td>106</td>\n",
       "      <td>61</td>\n",
       "      <td>32</td>\n",
       "      <td>190</td>\n",
       "      <td>200</td>\n",
       "      <td>94</td>\n",
       "      <td>116</td>\n",
       "      <td>-9999</td>\n",
       "      <td>-9999</td>\n",
       "      <td>-9999</td>\n",
       "      <td>-9999</td>\n",
       "    </tr>\n",
       "    <tr>\n",
       "      <th>2</th>\n",
       "      <td>GHCND:USW00024233</td>\n",
       "      <td>SEATTLE TACOMA INTERNATIONAL AIRPORT WA US</td>\n",
       "      <td>20140103</td>\n",
       "      <td>15</td>\n",
       "      <td>0</td>\n",
       "      <td>0</td>\n",
       "      <td>89</td>\n",
       "      <td>28</td>\n",
       "      <td>26</td>\n",
       "      <td>30</td>\n",
       "      <td>50</td>\n",
       "      <td>63</td>\n",
       "      <td>72</td>\n",
       "      <td>1</td>\n",
       "      <td>-9999</td>\n",
       "      <td>-9999</td>\n",
       "      <td>-9999</td>\n",
       "    </tr>\n",
       "    <tr>\n",
       "      <th>3</th>\n",
       "      <td>GHCND:USW00024233</td>\n",
       "      <td>SEATTLE TACOMA INTERNATIONAL AIRPORT WA US</td>\n",
       "      <td>20140104</td>\n",
       "      <td>0</td>\n",
       "      <td>0</td>\n",
       "      <td>0</td>\n",
       "      <td>78</td>\n",
       "      <td>6</td>\n",
       "      <td>27</td>\n",
       "      <td>40</td>\n",
       "      <td>40</td>\n",
       "      <td>45</td>\n",
       "      <td>58</td>\n",
       "      <td>1</td>\n",
       "      <td>-9999</td>\n",
       "      <td>-9999</td>\n",
       "      <td>-9999</td>\n",
       "    </tr>\n",
       "    <tr>\n",
       "      <th>4</th>\n",
       "      <td>GHCND:USW00024233</td>\n",
       "      <td>SEATTLE TACOMA INTERNATIONAL AIRPORT WA US</td>\n",
       "      <td>20140105</td>\n",
       "      <td>0</td>\n",
       "      <td>0</td>\n",
       "      <td>0</td>\n",
       "      <td>83</td>\n",
       "      <td>-5</td>\n",
       "      <td>37</td>\n",
       "      <td>10</td>\n",
       "      <td>10</td>\n",
       "      <td>67</td>\n",
       "      <td>76</td>\n",
       "      <td>-9999</td>\n",
       "      <td>-9999</td>\n",
       "      <td>-9999</td>\n",
       "      <td>-9999</td>\n",
       "    </tr>\n",
       "  </tbody>\n",
       "</table>\n",
       "</div>"
      ],
      "text/plain": [
       "             STATION                                STATION_NAME      DATE  \\\n",
       "0  GHCND:USW00024233  SEATTLE TACOMA INTERNATIONAL AIRPORT WA US  20140101   \n",
       "1  GHCND:USW00024233  SEATTLE TACOMA INTERNATIONAL AIRPORT WA US  20140102   \n",
       "2  GHCND:USW00024233  SEATTLE TACOMA INTERNATIONAL AIRPORT WA US  20140103   \n",
       "3  GHCND:USW00024233  SEATTLE TACOMA INTERNATIONAL AIRPORT WA US  20140104   \n",
       "4  GHCND:USW00024233  SEATTLE TACOMA INTERNATIONAL AIRPORT WA US  20140105   \n",
       "\n",
       "   PRCP  SNWD  SNOW  TMAX  TMIN  AWND  WDF2  WDF5  WSF2  WSF5  WT01  WT05  \\\n",
       "0     0     0     0    72    33    12   340   310    36    40 -9999 -9999   \n",
       "1    41     0     0   106    61    32   190   200    94   116 -9999 -9999   \n",
       "2    15     0     0    89    28    26    30    50    63    72     1 -9999   \n",
       "3     0     0     0    78     6    27    40    40    45    58     1 -9999   \n",
       "4     0     0     0    83    -5    37    10    10    67    76 -9999 -9999   \n",
       "\n",
       "   WT02  WT03  \n",
       "0 -9999 -9999  \n",
       "1 -9999 -9999  \n",
       "2 -9999 -9999  \n",
       "3 -9999 -9999  \n",
       "4 -9999 -9999  "
      ]
     },
     "execution_count": 2,
     "metadata": {},
     "output_type": "execute_result"
    }
   ],
   "source": [
    "rainfall = pd.read_csv('data/Seattle2014.csv')\n",
    "rainfall.head()"
   ]
  },
  {
   "cell_type": "code",
   "execution_count": 3,
   "metadata": {},
   "outputs": [
    {
     "data": {
      "text/html": [
       "<div>\n",
       "<style scoped>\n",
       "    .dataframe tbody tr th:only-of-type {\n",
       "        vertical-align: middle;\n",
       "    }\n",
       "\n",
       "    .dataframe tbody tr th {\n",
       "        vertical-align: top;\n",
       "    }\n",
       "\n",
       "    .dataframe thead th {\n",
       "        text-align: right;\n",
       "    }\n",
       "</style>\n",
       "<table border=\"1\" class=\"dataframe\">\n",
       "  <thead>\n",
       "    <tr style=\"text-align: right;\">\n",
       "      <th></th>\n",
       "      <th>DATE</th>\n",
       "      <th>PRCP</th>\n",
       "    </tr>\n",
       "  </thead>\n",
       "  <tbody>\n",
       "    <tr>\n",
       "      <th>0</th>\n",
       "      <td>20140101</td>\n",
       "      <td>0</td>\n",
       "    </tr>\n",
       "    <tr>\n",
       "      <th>1</th>\n",
       "      <td>20140102</td>\n",
       "      <td>41</td>\n",
       "    </tr>\n",
       "    <tr>\n",
       "      <th>2</th>\n",
       "      <td>20140103</td>\n",
       "      <td>15</td>\n",
       "    </tr>\n",
       "    <tr>\n",
       "      <th>3</th>\n",
       "      <td>20140104</td>\n",
       "      <td>0</td>\n",
       "    </tr>\n",
       "    <tr>\n",
       "      <th>4</th>\n",
       "      <td>20140105</td>\n",
       "      <td>0</td>\n",
       "    </tr>\n",
       "    <tr>\n",
       "      <th>...</th>\n",
       "      <td>...</td>\n",
       "      <td>...</td>\n",
       "    </tr>\n",
       "    <tr>\n",
       "      <th>360</th>\n",
       "      <td>20141227</td>\n",
       "      <td>33</td>\n",
       "    </tr>\n",
       "    <tr>\n",
       "      <th>361</th>\n",
       "      <td>20141228</td>\n",
       "      <td>41</td>\n",
       "    </tr>\n",
       "    <tr>\n",
       "      <th>362</th>\n",
       "      <td>20141229</td>\n",
       "      <td>0</td>\n",
       "    </tr>\n",
       "    <tr>\n",
       "      <th>363</th>\n",
       "      <td>20141230</td>\n",
       "      <td>0</td>\n",
       "    </tr>\n",
       "    <tr>\n",
       "      <th>364</th>\n",
       "      <td>20141231</td>\n",
       "      <td>0</td>\n",
       "    </tr>\n",
       "  </tbody>\n",
       "</table>\n",
       "<p>365 rows × 2 columns</p>\n",
       "</div>"
      ],
      "text/plain": [
       "         DATE  PRCP\n",
       "0    20140101     0\n",
       "1    20140102    41\n",
       "2    20140103    15\n",
       "3    20140104     0\n",
       "4    20140105     0\n",
       "..        ...   ...\n",
       "360  20141227    33\n",
       "361  20141228    41\n",
       "362  20141229     0\n",
       "363  20141230     0\n",
       "364  20141231     0\n",
       "\n",
       "[365 rows x 2 columns]"
      ]
     },
     "execution_count": 3,
     "metadata": {},
     "output_type": "execute_result"
    }
   ],
   "source": [
    "rainfall[['DATE', 'PRCP']]"
   ]
  },
  {
   "cell_type": "code",
   "execution_count": 4,
   "metadata": {},
   "outputs": [
    {
     "data": {
      "text/plain": [
       "array([0.        , 0.16141732, 0.05905512, 0.        , 0.        ,\n",
       "       0.01181102, 0.48031496, 0.38188976, 0.22834646, 0.16929134,\n",
       "       0.83858268, 0.05905512, 0.        , 0.        , 0.        ,\n",
       "       0.        , 0.        , 0.        , 0.        , 0.        ,\n",
       "       0.        , 0.01968504, 0.        , 0.        , 0.        ,\n",
       "       0.        , 0.        , 0.3503937 , 0.8503937 , 0.        ,\n",
       "       0.09055118, 0.07874016, 0.        , 0.        , 0.        ,\n",
       "       0.        , 0.        , 0.        , 0.2007874 , 0.01968504,\n",
       "       0.72047244, 0.66929134, 0.18110236, 0.07086614, 0.37007874,\n",
       "       0.46062992, 1.03937008, 0.57086614, 0.5984252 , 0.03937008,\n",
       "       0.11811024, 0.11023622, 0.0984252 , 0.24015748, 0.51181102,\n",
       "       0.01181102, 0.        , 0.        , 0.        , 0.01968504,\n",
       "       0.7519685 , 0.42125984, 0.6496063 , 1.83858268, 0.11811024,\n",
       "       0.        , 1.27165354, 0.16929134, 0.74015748, 0.        ,\n",
       "       0.        , 0.01968504, 0.27165354, 0.31889764, 1.09055118,\n",
       "       0.01181102, 0.        , 0.01968504, 0.        , 0.        ,\n",
       "       0.        , 0.        , 0.        , 0.16141732, 0.14173228,\n",
       "       0.01181102, 0.87007874, 0.5511811 , 0.        , 0.        ,\n",
       "       0.        , 0.        , 0.0984252 , 0.        , 0.18110236,\n",
       "       0.        , 0.        , 0.18110236, 0.        , 0.        ,\n",
       "       0.        , 0.        , 0.        , 0.        , 0.01968504,\n",
       "       0.42913386, 0.72834646, 0.        , 0.53937008, 0.        ,\n",
       "       0.2007874 , 0.55905512, 0.3503937 , 0.48818898, 0.        ,\n",
       "       0.12992126, 0.27165354, 0.        , 0.        , 0.        ,\n",
       "       0.        , 0.        , 1.31102362, 0.62992126, 0.2007874 ,\n",
       "       0.        , 0.        , 0.53937008, 0.07874016, 0.01968504,\n",
       "       0.        , 0.        , 0.        , 0.        , 0.        ,\n",
       "       0.        , 0.        , 0.        , 0.        , 0.        ,\n",
       "       0.        , 0.        , 0.1496063 , 0.        , 0.22047244,\n",
       "       0.        , 0.        , 0.        , 0.        , 0.        ,\n",
       "       0.        , 0.        , 0.        , 0.        , 0.        ,\n",
       "       0.        , 0.        , 0.        , 0.        , 0.        ,\n",
       "       0.        , 0.        , 0.07086614, 0.2519685 , 0.        ,\n",
       "       0.01968504, 0.14173228, 0.0511811 , 0.        , 0.03149606,\n",
       "       0.01181102, 0.        , 0.        , 0.        , 0.        ,\n",
       "       0.        , 0.        , 0.07086614, 0.09055118, 0.        ,\n",
       "       0.        , 0.        , 0.        , 0.        , 0.        ,\n",
       "       0.        , 0.        , 0.        , 0.        , 0.        ,\n",
       "       0.        , 0.        , 0.        , 0.        , 0.        ,\n",
       "       0.        , 0.        , 0.        , 0.        , 0.        ,\n",
       "       0.        , 0.        , 0.01181102, 0.75984252, 0.        ,\n",
       "       0.        , 0.        , 0.        , 0.        , 0.        ,\n",
       "       0.        , 0.        , 0.        , 0.01968504, 0.        ,\n",
       "       0.        , 0.        , 0.        , 0.        , 0.        ,\n",
       "       0.        , 0.        , 0.01968504, 0.5       , 0.8503937 ,\n",
       "       0.        , 0.03937008, 0.        , 0.        , 0.        ,\n",
       "       0.        , 0.        , 0.        , 0.        , 0.        ,\n",
       "       0.        , 0.        , 0.        , 0.        , 0.        ,\n",
       "       0.        , 0.33070866, 0.0511811 , 0.        , 0.11811024,\n",
       "       0.        , 0.        , 0.        , 0.        , 0.        ,\n",
       "       0.        , 0.        , 0.        , 0.        , 0.        ,\n",
       "       0.        , 0.        , 0.        , 0.        , 0.01968504,\n",
       "       0.01181102, 0.        , 0.        , 0.        , 0.01181102,\n",
       "       0.72047244, 0.7992126 , 0.16929134, 0.3503937 , 0.        ,\n",
       "       0.        , 0.03149606, 0.        , 0.        , 0.        ,\n",
       "       0.        , 0.        , 0.        , 0.        , 0.        ,\n",
       "       0.        , 0.        , 0.01181102, 0.29133858, 0.        ,\n",
       "       0.2992126 , 0.27952756, 0.33858268, 0.        , 0.12992126,\n",
       "       0.59055118, 0.        , 0.46062992, 0.03937008, 1.25984252,\n",
       "       0.37007874, 0.16141732, 0.24015748, 0.05905512, 0.03149606,\n",
       "       0.5       , 0.01968504, 1.        , 0.66929134, 0.        ,\n",
       "       0.07086614, 0.42913386, 0.16141732, 0.18897638, 0.16141732,\n",
       "       0.        , 0.        , 0.2007874 , 0.        , 0.        ,\n",
       "       0.        , 0.        , 0.        , 0.        , 0.        ,\n",
       "       0.        , 0.        , 0.        , 0.14173228, 0.5984252 ,\n",
       "       0.01968504, 0.46850394, 0.0511811 , 0.72047244, 0.01181102,\n",
       "       0.12992126, 1.3503937 , 0.14173228, 0.        , 0.        ,\n",
       "       0.        , 0.        , 0.03149606, 0.11811024, 0.29133858,\n",
       "       0.        , 0.35826772, 0.38976378, 0.51181102, 0.27165354,\n",
       "       0.        , 0.        , 0.        , 0.        , 0.        ,\n",
       "       0.11023622, 0.51181102, 0.11811024, 0.77165354, 0.        ,\n",
       "       0.        , 0.81102362, 0.20866142, 0.        , 0.        ,\n",
       "       0.12992126, 0.16141732, 0.        , 0.        , 0.        ])"
      ]
     },
     "execution_count": 4,
     "metadata": {},
     "output_type": "execute_result"
    }
   ],
   "source": [
    "# 1 inch = 25.4 mm\n",
    "# 1/10 mm \n",
    "inches = rainfall['PRCP'].values / 254\n",
    "inches"
   ]
  },
  {
   "cell_type": "code",
   "execution_count": 5,
   "metadata": {},
   "outputs": [],
   "source": [
    "import matplotlib.pyplot as plt"
   ]
  },
  {
   "cell_type": "code",
   "execution_count": 6,
   "metadata": {},
   "outputs": [
    {
     "data": {
      "text/plain": [
       "(array([259.,  30.,  14.,  11.,   7.,  13.,   6.,   7.,   6.,   4.,   1.,\n",
       "          2.,   0.,   2.,   2.,   0.,   0.,   0.,   0.,   1.]),\n",
       " array([0.        , 0.09192913, 0.18385827, 0.2757874 , 0.36771654,\n",
       "        0.45964567, 0.5515748 , 0.64350394, 0.73543307, 0.8273622 ,\n",
       "        0.91929134, 1.01122047, 1.10314961, 1.19507874, 1.28700787,\n",
       "        1.37893701, 1.47086614, 1.56279528, 1.65472441, 1.74665354,\n",
       "        1.83858268]),\n",
       " <a list of 20 Patch objects>)"
      ]
     },
     "execution_count": 6,
     "metadata": {},
     "output_type": "execute_result"
    },
    {
     "data": {
      "image/png": "[encoded data removed]",
      "text/plain": [
       "<Figure size 432x288 with 1 Axes>"
      ]
     },
     "metadata": {
      "needs_background": "light"
     },
     "output_type": "display_data"
    }
   ],
   "source": [
    "plt.hist(inches, 20)"
   ]
  },
  {
   "cell_type": "code",
   "execution_count": 7,
   "metadata": {},
   "outputs": [
    {
     "data": {
      "text/plain": [
       "(365,)"
      ]
     },
     "execution_count": 7,
     "metadata": {},
     "output_type": "execute_result"
    }
   ],
   "source": [
    "inches.shape"
   ]
  },
  {
   "cell_type": "markdown",
   "metadata": {},
   "source": [
    "### Measure rain on summer days"
   ]
  },
  {
   "cell_type": "code",
   "execution_count": 13,
   "metadata": {},
   "outputs": [
    {
     "data": {
      "text/plain": [
       "array([False, False, False, False, False, False, False, False, False,\n",
       "       False, False, False, False, False, False, False, False, False,\n",
       "       False, False, False, False, False, False, False, False, False,\n",
       "       False, False, False, False, False, False, False, False, False,\n",
       "       False, False, False, False, False, False, False, False, False,\n",
       "       False, False, False, False, False, False, False, False, False,\n",
       "       False, False, False, False, False, False, False, False, False,\n",
       "       False, False, False, False, False, False, False, False, False,\n",
       "       False, False, False, False, False, False, False, False, False,\n",
       "       False, False, False, False, False, False, False, False, False,\n",
       "       False, False, False, False, False, False, False, False, False,\n",
       "       False, False, False, False, False, False, False, False, False,\n",
       "       False, False, False, False, False, False, False, False, False,\n",
       "       False, False, False, False, False, False, False, False, False,\n",
       "       False, False, False, False, False, False, False, False, False,\n",
       "       False, False, False, False, False, False, False, False, False,\n",
       "       False, False, False, False, False, False, False, False, False,\n",
       "       False, False, False, False, False, False, False, False, False,\n",
       "       False, False, False, False, False, False, False, False, False,\n",
       "       False, False,  True,  True,  True,  True,  True,  True,  True,\n",
       "        True,  True,  True,  True,  True,  True,  True,  True,  True,\n",
       "        True,  True,  True,  True,  True,  True,  True,  True,  True,\n",
       "        True,  True,  True,  True,  True,  True,  True,  True,  True,\n",
       "        True,  True,  True,  True,  True,  True,  True,  True,  True,\n",
       "        True,  True,  True,  True,  True,  True,  True,  True,  True,\n",
       "        True,  True,  True,  True,  True,  True,  True,  True,  True,\n",
       "        True,  True,  True,  True,  True,  True,  True,  True,  True,\n",
       "        True,  True,  True,  True,  True,  True,  True,  True,  True,\n",
       "        True,  True,  True,  True,  True,  True,  True,  True,  True,\n",
       "        True, False, False, False, False, False, False, False, False,\n",
       "       False, False, False, False, False, False, False, False, False,\n",
       "       False, False, False, False, False, False, False, False, False,\n",
       "       False, False, False, False, False, False, False, False, False,\n",
       "       False, False, False, False, False, False, False, False, False,\n",
       "       False, False, False, False, False, False, False, False, False,\n",
       "       False, False, False, False, False, False, False, False, False,\n",
       "       False, False, False, False, False, False, False, False, False,\n",
       "       False, False, False, False, False, False, False, False, False,\n",
       "       False, False, False, False, False, False, False, False, False,\n",
       "       False, False, False, False, False, False, False, False, False,\n",
       "       False, False, False, False, False])"
      ]
     },
     "execution_count": 13,
     "metadata": {},
     "output_type": "execute_result"
    }
   ],
   "source": [
    "(np.arange(365) > 172) & (np.arange(365) < 262)"
   ]
  },
  {
   "cell_type": "code",
   "execution_count": 18,
   "metadata": {},
   "outputs": [
    {
     "data": {
      "text/plain": [
       "array([False, False, False, False, False, False, False, False, False,\n",
       "       False, False, False, False, False, False, False, False, False,\n",
       "       False, False, False, False, False, False, False, False, False,\n",
       "       False, False, False, False, False, False, False, False, False,\n",
       "       False, False, False, False, False, False, False, False, False,\n",
       "       False, False, False, False, False, False, False, False, False,\n",
       "       False, False, False, False, False, False, False, False, False,\n",
       "       False, False, False, False, False, False, False, False, False,\n",
       "       False, False, False, False, False, False, False, False, False,\n",
       "       False, False, False, False, False, False, False, False, False,\n",
       "       False, False, False, False, False, False, False, False, False,\n",
       "       False, False, False, False, False, False, False, False, False,\n",
       "       False, False, False, False, False, False, False, False, False,\n",
       "       False, False, False, False, False, False, False, False, False,\n",
       "       False, False, False, False, False, False, False, False, False,\n",
       "       False, False, False, False, False, False, False, False, False,\n",
       "       False, False, False, False, False, False, False, False, False,\n",
       "       False, False, False, False, False, False, False, False, False,\n",
       "       False, False, False, False, False, False, False, False, False,\n",
       "       False, False,  True,  True,  True,  True,  True,  True,  True,\n",
       "        True,  True,  True,  True,  True,  True,  True,  True,  True,\n",
       "        True,  True,  True,  True,  True,  True,  True,  True,  True,\n",
       "        True,  True,  True,  True,  True,  True,  True,  True,  True,\n",
       "        True,  True,  True,  True,  True,  True,  True,  True,  True,\n",
       "        True,  True,  True,  True,  True,  True,  True,  True,  True,\n",
       "        True,  True,  True,  True,  True,  True,  True,  True,  True,\n",
       "        True,  True,  True,  True,  True,  True,  True,  True,  True,\n",
       "        True,  True,  True,  True,  True,  True,  True,  True,  True,\n",
       "        True,  True,  True,  True,  True,  True,  True,  True,  True,\n",
       "        True, False, False, False, False, False, False, False, False,\n",
       "       False, False, False, False, False, False, False, False, False,\n",
       "       False, False, False, False, False, False, False, False, False,\n",
       "       False, False, False, False, False, False, False, False, False,\n",
       "       False, False, False, False, False, False, False, False, False,\n",
       "       False, False, False, False, False, False, False, False, False,\n",
       "       False, False, False, False, False, False, False, False, False,\n",
       "       False, False, False, False, False, False, False, False, False,\n",
       "       False, False, False, False, False, False, False, False, False,\n",
       "       False, False, False, False, False, False, False, False, False,\n",
       "       False, False, False, False, False, False, False, False, False,\n",
       "       False, False, False, False, False])"
      ]
     },
     "execution_count": 18,
     "metadata": {},
     "output_type": "execute_result"
    }
   ],
   "source": [
    "# 365 element array to represent summer days\n",
    "# summer starts on day 172 of the year and ends 90 days later\n",
    "summer = (np.arange(365) > 172) & (np.arange(365) < 262)\n",
    "summer"
   ]
  },
  {
   "cell_type": "code",
   "execution_count": 14,
   "metadata": {},
   "outputs": [
    {
     "data": {
      "text/plain": [
       "array([False,  True,  True, False, False,  True,  True,  True,  True,\n",
       "        True,  True,  True, False, False, False, False, False, False,\n",
       "       False, False, False,  True, False, False, False, False, False,\n",
       "        True,  True, False,  True,  True, False, False, False, False,\n",
       "       False, False,  True,  True,  True,  True,  True,  True,  True,\n",
       "        True,  True,  True,  True,  True,  True,  True,  True,  True,\n",
       "        True,  True, False, False, False,  True,  True,  True,  True,\n",
       "        True,  True, False,  True,  True,  True, False, False,  True,\n",
       "        True,  True,  True,  True, False,  True, False, False, False,\n",
       "       False, False,  True,  True,  True,  True,  True, False, False,\n",
       "       False, False,  True, False,  True, False, False,  True, False,\n",
       "       False, False, False, False, False,  True,  True,  True, False,\n",
       "        True, False,  True,  True,  True,  True, False,  True,  True,\n",
       "       False, False, False, False, False,  True,  True,  True, False,\n",
       "       False,  True,  True,  True, False, False, False, False, False,\n",
       "       False, False, False, False, False, False, False,  True, False,\n",
       "        True, False, False, False, False, False, False, False, False,\n",
       "       False, False, False, False, False, False, False, False, False,\n",
       "        True,  True, False,  True,  True,  True, False,  True,  True,\n",
       "       False, False, False, False, False, False,  True,  True, False,\n",
       "       False, False, False, False, False, False, False, False, False,\n",
       "       False, False, False, False, False, False, False, False, False,\n",
       "       False, False, False, False,  True,  True, False, False, False,\n",
       "       False, False, False, False, False, False,  True, False, False,\n",
       "       False, False, False, False, False, False,  True,  True,  True,\n",
       "       False,  True, False, False, False, False, False, False, False,\n",
       "       False, False, False, False, False, False, False,  True,  True,\n",
       "       False,  True, False, False, False, False, False, False, False,\n",
       "       False, False, False, False, False, False, False,  True,  True,\n",
       "       False, False, False,  True,  True,  True,  True,  True, False,\n",
       "       False,  True, False, False, False, False, False, False, False,\n",
       "       False, False, False,  True,  True, False,  True,  True,  True,\n",
       "       False,  True,  True, False,  True,  True,  True,  True,  True,\n",
       "        True,  True,  True,  True,  True,  True,  True, False,  True,\n",
       "        True,  True,  True,  True, False, False,  True, False, False,\n",
       "       False, False, False, False, False, False, False, False,  True,\n",
       "        True,  True,  True,  True,  True,  True,  True,  True,  True,\n",
       "       False, False, False, False,  True,  True,  True, False,  True,\n",
       "        True,  True,  True, False, False, False, False, False,  True,\n",
       "        True,  True,  True, False, False,  True,  True, False, False,\n",
       "        True,  True, False, False, False])"
      ]
     },
     "execution_count": 14,
     "metadata": {},
     "output_type": "execute_result"
    }
   ],
   "source": [
    "# Rainy days\n",
    "rainy = inches > 0\n",
    "rainy"
   ]
  },
  {
   "cell_type": "code",
   "execution_count": 15,
   "metadata": {},
   "outputs": [
    {
     "data": {
      "text/plain": [
       "array([0.16141732, 0.05905512, 0.01181102, 0.48031496, 0.38188976,\n",
       "       0.22834646, 0.16929134, 0.83858268, 0.05905512, 0.01968504,\n",
       "       0.3503937 , 0.8503937 , 0.09055118, 0.07874016, 0.2007874 ,\n",
       "       0.01968504, 0.72047244, 0.66929134, 0.18110236, 0.07086614,\n",
       "       0.37007874, 0.46062992, 1.03937008, 0.57086614, 0.5984252 ,\n",
       "       0.03937008, 0.11811024, 0.11023622, 0.0984252 , 0.24015748,\n",
       "       0.51181102, 0.01181102, 0.01968504, 0.7519685 , 0.42125984,\n",
       "       0.6496063 , 1.83858268, 0.11811024, 1.27165354, 0.16929134,\n",
       "       0.74015748, 0.01968504, 0.27165354, 0.31889764, 1.09055118,\n",
       "       0.01181102, 0.01968504, 0.16141732, 0.14173228, 0.01181102,\n",
       "       0.87007874, 0.5511811 , 0.0984252 , 0.18110236, 0.18110236,\n",
       "       0.01968504, 0.42913386, 0.72834646, 0.53937008, 0.2007874 ,\n",
       "       0.55905512, 0.3503937 , 0.48818898, 0.12992126, 0.27165354,\n",
       "       1.31102362, 0.62992126, 0.2007874 , 0.53937008, 0.07874016,\n",
       "       0.01968504, 0.1496063 , 0.22047244, 0.07086614, 0.2519685 ,\n",
       "       0.01968504, 0.14173228, 0.0511811 , 0.03149606, 0.01181102,\n",
       "       0.07086614, 0.09055118, 0.01181102, 0.75984252, 0.01968504,\n",
       "       0.01968504, 0.5       , 0.8503937 , 0.03937008, 0.33070866,\n",
       "       0.0511811 , 0.11811024, 0.01968504, 0.01181102, 0.01181102,\n",
       "       0.72047244, 0.7992126 , 0.16929134, 0.3503937 , 0.03149606,\n",
       "       0.01181102, 0.29133858, 0.2992126 , 0.27952756, 0.33858268,\n",
       "       0.12992126, 0.59055118, 0.46062992, 0.03937008, 1.25984252,\n",
       "       0.37007874, 0.16141732, 0.24015748, 0.05905512, 0.03149606,\n",
       "       0.5       , 0.01968504, 1.        , 0.66929134, 0.07086614,\n",
       "       0.42913386, 0.16141732, 0.18897638, 0.16141732, 0.2007874 ,\n",
       "       0.14173228, 0.5984252 , 0.01968504, 0.46850394, 0.0511811 ,\n",
       "       0.72047244, 0.01181102, 0.12992126, 1.3503937 , 0.14173228,\n",
       "       0.03149606, 0.11811024, 0.29133858, 0.35826772, 0.38976378,\n",
       "       0.51181102, 0.27165354, 0.11023622, 0.51181102, 0.11811024,\n",
       "       0.77165354, 0.81102362, 0.20866142, 0.12992126, 0.16141732])"
      ]
     },
     "execution_count": 15,
     "metadata": {},
     "output_type": "execute_result"
    }
   ],
   "source": [
    "# Amount of rain \n",
    "inches[rainy]"
   ]
  },
  {
   "cell_type": "code",
   "execution_count": 16,
   "metadata": {},
   "outputs": [
    {
     "data": {
      "text/plain": [
       "0.19488188976377951"
      ]
     },
     "execution_count": 16,
     "metadata": {},
     "output_type": "execute_result"
    }
   ],
   "source": [
    "# median precipitation on rainy days\n",
    "np.median(inches[rainy])"
   ]
  },
  {
   "cell_type": "code",
   "execution_count": 25,
   "metadata": {},
   "outputs": [
    {
     "data": {
      "text/plain": [
       "0.0"
      ]
     },
     "execution_count": 25,
     "metadata": {},
     "output_type": "execute_result"
    }
   ],
   "source": [
    "# median precipitation on summer days\n",
    "np.median(inches[summer])"
   ]
  },
  {
   "cell_type": "code",
   "execution_count": 26,
   "metadata": {},
   "outputs": [
    {
     "data": {
      "text/plain": [
       "0.20078740157480315"
      ]
     },
     "execution_count": 26,
     "metadata": {},
     "output_type": "execute_result"
    }
   ],
   "source": [
    "# median precipitation on non-summer rainy days\n",
    "np.median(inches[rainy & ~summer])"
   ]
  },
  {
   "cell_type": "code",
   "execution_count": 19,
   "metadata": {},
   "outputs": [
    {
     "data": {
      "text/plain": [
       "array([0.16141732, 0.05905512, 0.01181102, 0.48031496, 0.38188976,\n",
       "       0.22834646, 0.16929134, 0.83858268, 0.05905512, 0.01968504,\n",
       "       0.3503937 , 0.8503937 , 0.09055118, 0.07874016, 0.2007874 ,\n",
       "       0.01968504, 0.72047244, 0.66929134, 0.18110236, 0.07086614,\n",
       "       0.37007874, 0.46062992, 1.03937008, 0.57086614, 0.5984252 ,\n",
       "       0.03937008, 0.11811024, 0.11023622, 0.0984252 , 0.24015748,\n",
       "       0.51181102, 0.01181102, 0.01968504, 0.7519685 , 0.42125984,\n",
       "       0.6496063 , 1.83858268, 0.11811024, 1.27165354, 0.16929134,\n",
       "       0.74015748, 0.01968504, 0.27165354, 0.31889764, 1.09055118,\n",
       "       0.01181102, 0.01968504, 0.16141732, 0.14173228, 0.01181102,\n",
       "       0.87007874, 0.5511811 , 0.0984252 , 0.18110236, 0.18110236,\n",
       "       0.01968504, 0.42913386, 0.72834646, 0.53937008, 0.2007874 ,\n",
       "       0.55905512, 0.3503937 , 0.48818898, 0.12992126, 0.27165354,\n",
       "       1.31102362, 0.62992126, 0.2007874 , 0.53937008, 0.07874016,\n",
       "       0.01968504, 0.1496063 , 0.22047244, 0.07086614, 0.2519685 ,\n",
       "       0.01968504, 0.14173228, 0.0511811 , 0.03149606, 0.01181102,\n",
       "       0.01181102, 0.72047244, 0.7992126 , 0.16929134, 0.3503937 ,\n",
       "       0.03149606, 0.01181102, 0.29133858, 0.2992126 , 0.27952756,\n",
       "       0.33858268, 0.12992126, 0.59055118, 0.46062992, 0.03937008,\n",
       "       1.25984252, 0.37007874, 0.16141732, 0.24015748, 0.05905512,\n",
       "       0.03149606, 0.5       , 0.01968504, 1.        , 0.66929134,\n",
       "       0.07086614, 0.42913386, 0.16141732, 0.18897638, 0.16141732,\n",
       "       0.2007874 , 0.14173228, 0.5984252 , 0.01968504, 0.46850394,\n",
       "       0.0511811 , 0.72047244, 0.01181102, 0.12992126, 1.3503937 ,\n",
       "       0.14173228, 0.03149606, 0.11811024, 0.29133858, 0.35826772,\n",
       "       0.38976378, 0.51181102, 0.27165354, 0.11023622, 0.51181102,\n",
       "       0.11811024, 0.77165354, 0.81102362, 0.20866142, 0.12992126,\n",
       "       0.16141732])"
      ]
     },
     "execution_count": 19,
     "metadata": {},
     "output_type": "execute_result"
    }
   ],
   "source": [
    "inches[rainy & ~summer]"
   ]
  },
  {
   "cell_type": "code",
   "execution_count": 21,
   "metadata": {},
   "outputs": [
    {
     "data": {
      "text/plain": [
       "array([ True,  True,  True,  True,  True,  True,  True,  True,  True,\n",
       "        True,  True,  True,  True,  True,  True,  True,  True,  True,\n",
       "        True,  True,  True,  True,  True,  True,  True,  True,  True,\n",
       "        True,  True,  True,  True,  True,  True,  True,  True,  True,\n",
       "        True,  True,  True,  True,  True,  True,  True,  True,  True,\n",
       "        True,  True,  True,  True,  True,  True,  True,  True,  True,\n",
       "        True,  True,  True,  True,  True,  True,  True,  True,  True,\n",
       "        True,  True,  True,  True,  True,  True,  True,  True,  True,\n",
       "        True,  True,  True,  True,  True,  True,  True,  True,  True,\n",
       "        True,  True,  True,  True,  True,  True,  True,  True,  True,\n",
       "        True,  True,  True,  True,  True,  True,  True,  True,  True,\n",
       "        True,  True,  True,  True,  True,  True,  True,  True,  True,\n",
       "        True,  True,  True,  True,  True,  True,  True,  True,  True,\n",
       "        True,  True,  True,  True,  True,  True,  True,  True,  True,\n",
       "        True,  True,  True,  True,  True,  True,  True,  True,  True,\n",
       "        True,  True,  True,  True,  True,  True,  True,  True,  True,\n",
       "        True,  True,  True,  True,  True,  True,  True,  True,  True,\n",
       "        True,  True,  True,  True,  True,  True,  True,  True,  True,\n",
       "        True,  True,  True,  True,  True,  True,  True,  True,  True,\n",
       "        True,  True, False, False, False, False, False, False, False,\n",
       "       False, False, False, False, False, False, False, False, False,\n",
       "       False, False, False, False, False, False, False, False, False,\n",
       "       False, False, False, False, False, False, False, False, False,\n",
       "       False, False, False, False, False, False, False, False, False,\n",
       "       False, False, False, False, False, False, False, False, False,\n",
       "       False, False, False, False, False, False, False, False, False,\n",
       "       False, False, False, False, False, False, False, False, False,\n",
       "       False, False, False, False, False, False, False, False, False,\n",
       "       False, False, False, False, False, False, False, False, False,\n",
       "       False,  True,  True,  True,  True,  True,  True,  True,  True,\n",
       "        True,  True,  True,  True,  True,  True,  True,  True,  True,\n",
       "        True,  True,  True,  True,  True,  True,  True,  True,  True,\n",
       "        True,  True,  True,  True,  True,  True,  True,  True,  True,\n",
       "        True,  True,  True,  True,  True,  True,  True,  True,  True,\n",
       "        True,  True,  True,  True,  True,  True,  True,  True,  True,\n",
       "        True,  True,  True,  True,  True,  True,  True,  True,  True,\n",
       "        True,  True,  True,  True,  True,  True,  True,  True,  True,\n",
       "        True,  True,  True,  True,  True,  True,  True,  True,  True,\n",
       "        True,  True,  True,  True,  True,  True,  True,  True,  True,\n",
       "        True,  True,  True,  True,  True,  True,  True,  True,  True,\n",
       "        True,  True,  True,  True,  True])"
      ]
     },
     "execution_count": 21,
     "metadata": {},
     "output_type": "execute_result"
    }
   ],
   "source": [
    "~summer"
   ]
  },
  {
   "cell_type": "code",
   "execution_count": 22,
   "metadata": {},
   "outputs": [],
   "source": [
    "# masking"
   ]
  },
  {
   "cell_type": "code",
   "execution_count": null,
   "metadata": {},
   "outputs": [],
   "source": []
  }
 ],
 "metadata": {
  "kernelspec": {
   "display_name": "Python 3",
   "language": "python",
   "name": "python3"
  },
  "language_info": {
   "codemirror_mode": {
    "name": "ipython",
    "version": 3
   },
   "file_extension": ".py",
   "mimetype": "text/x-python",
   "name": "python",
   "nbconvert_exporter": "python",
   "pygments_lexer": "ipython3",
   "version": "3.7.6"
  }
 },
 "nbformat": 4,
 "nbformat_minor": 4
}
