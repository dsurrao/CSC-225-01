{
 "cells": [
  {
   "cell_type": "markdown",
   "metadata": {},
   "source": [
    "### Source: https://github.com/jakevdp/PythonDataScienceHandbook\n",
    "\n",
    "Install pandas_datareader. From terminal ```conda install pandas-datareader```\n",
    "\n",
    "Documentation: https://pydata.github.io/pandas-datareader/devel/readers/yahoo.html"
   ]
  },
  {
   "cell_type": "code",
   "execution_count": 2,
   "metadata": {},
   "outputs": [],
   "source": [
    "from pandas_datareader import data"
   ]
  },
  {
   "cell_type": "code",
   "execution_count": 11,
   "metadata": {},
   "outputs": [
    {
     "data": {
      "text/html": [
       "<div>\n",
       "<style scoped>\n",
       "    .dataframe tbody tr th:only-of-type {\n",
       "        vertical-align: middle;\n",
       "    }\n",
       "\n",
       "    .dataframe tbody tr th {\n",
       "        vertical-align: top;\n",
       "    }\n",
       "\n",
       "    .dataframe thead th {\n",
       "        text-align: right;\n",
       "    }\n",
       "</style>\n",
       "<table border=\"1\" class=\"dataframe\">\n",
       "  <thead>\n",
       "    <tr style=\"text-align: right;\">\n",
       "      <th></th>\n",
       "      <th>High</th>\n",
       "      <th>Low</th>\n",
       "      <th>Open</th>\n",
       "      <th>Close</th>\n",
       "      <th>Volume</th>\n",
       "      <th>Adj Close</th>\n",
       "    </tr>\n",
       "    <tr>\n",
       "      <th>Date</th>\n",
       "      <th></th>\n",
       "      <th></th>\n",
       "      <th></th>\n",
       "      <th></th>\n",
       "      <th></th>\n",
       "      <th></th>\n",
       "    </tr>\n",
       "  </thead>\n",
       "  <tbody>\n",
       "    <tr>\n",
       "      <th>2020-11-04</th>\n",
       "      <td>1771.364990</td>\n",
       "      <td>1706.030029</td>\n",
       "      <td>1710.280029</td>\n",
       "      <td>1749.130005</td>\n",
       "      <td>3570900.0</td>\n",
       "      <td>1749.130005</td>\n",
       "    </tr>\n",
       "    <tr>\n",
       "      <th>2020-11-05</th>\n",
       "      <td>1793.640015</td>\n",
       "      <td>1750.510010</td>\n",
       "      <td>1781.000000</td>\n",
       "      <td>1763.369995</td>\n",
       "      <td>2065800.0</td>\n",
       "      <td>1763.369995</td>\n",
       "    </tr>\n",
       "    <tr>\n",
       "      <th>2020-11-06</th>\n",
       "      <td>1772.430054</td>\n",
       "      <td>1740.349976</td>\n",
       "      <td>1753.949951</td>\n",
       "      <td>1761.750000</td>\n",
       "      <td>1660900.0</td>\n",
       "      <td>1761.750000</td>\n",
       "    </tr>\n",
       "    <tr>\n",
       "      <th>2020-11-09</th>\n",
       "      <td>1818.060059</td>\n",
       "      <td>1760.020020</td>\n",
       "      <td>1790.900024</td>\n",
       "      <td>1763.000000</td>\n",
       "      <td>2265300.0</td>\n",
       "      <td>1763.000000</td>\n",
       "    </tr>\n",
       "    <tr>\n",
       "      <th>2020-11-10</th>\n",
       "      <td>1760.439941</td>\n",
       "      <td>1730.244995</td>\n",
       "      <td>1790.900024</td>\n",
       "      <td>1757.329956</td>\n",
       "      <td>110105.0</td>\n",
       "      <td>1757.329956</td>\n",
       "    </tr>\n",
       "  </tbody>\n",
       "</table>\n",
       "</div>"
      ],
      "text/plain": [
       "                   High          Low         Open        Close     Volume  \\\n",
       "Date                                                                        \n",
       "2020-11-04  1771.364990  1706.030029  1710.280029  1749.130005  3570900.0   \n",
       "2020-11-05  1793.640015  1750.510010  1781.000000  1763.369995  2065800.0   \n",
       "2020-11-06  1772.430054  1740.349976  1753.949951  1761.750000  1660900.0   \n",
       "2020-11-09  1818.060059  1760.020020  1790.900024  1763.000000  2265300.0   \n",
       "2020-11-10  1760.439941  1730.244995  1790.900024  1757.329956   110105.0   \n",
       "\n",
       "              Adj Close  \n",
       "Date                     \n",
       "2020-11-04  1749.130005  \n",
       "2020-11-05  1763.369995  \n",
       "2020-11-06  1761.750000  \n",
       "2020-11-09  1763.000000  \n",
       "2020-11-10  1757.329956  "
      ]
     },
     "execution_count": 11,
     "metadata": {},
     "output_type": "execute_result"
    }
   ],
   "source": [
    "goog = data.DataReader('GOOG', start='2010', end='2021', data_source='yahoo')\n",
    "goog.tail()"
   ]
  },
  {
   "cell_type": "code",
   "execution_count": 12,
   "metadata": {},
   "outputs": [
    {
     "data": {
      "text/plain": [
       "Date\n",
       "2010-01-04    312.204773\n",
       "2010-01-05    310.829926\n",
       "2010-01-06    302.994293\n",
       "2010-01-07    295.940735\n",
       "2010-01-08    299.885956\n",
       "Name: Close, dtype: float64"
      ]
     },
     "execution_count": 12,
     "metadata": {},
     "output_type": "execute_result"
    }
   ],
   "source": [
    "goog_close = goog['Close']\n",
    "goog_close.head()"
   ]
  },
  {
   "cell_type": "code",
   "execution_count": 13,
   "metadata": {},
   "outputs": [
    {
     "data": {
      "text/plain": [
       "<matplotlib.axes._subplots.AxesSubplot at 0x7f90b2881210>"
      ]
     },
     "execution_count": 13,
     "metadata": {},
     "output_type": "execute_result"
    },
    {
     "data": {
      "image/png": "[encoded data removed]",
      "text/plain": [
       "<Figure size 432x288 with 1 Axes>"
      ]
     },
     "metadata": {},
     "output_type": "display_data"
    }
   ],
   "source": [
    "import matplotlib.pyplot as plt\n",
    "import seaborn; seaborn.set()\n",
    "\n",
    "goog_close.plot()"
   ]
  },
  {
   "cell_type": "code",
   "execution_count": 15,
   "metadata": {},
   "outputs": [],
   "source": [
    "import pandas as pd"
   ]
  },
  {
   "cell_type": "code",
   "execution_count": 16,
   "metadata": {},
   "outputs": [
    {
     "name": "stderr",
     "output_type": "stream",
     "text": [
      "/Users/dsurrao/opt/anaconda3/lib/python3.7/site-packages/IPython/core/interactiveshell.py:3072: DtypeWarning: Columns (1,23) have mixed types.Specify dtype option on import or set low_memory=False.\n",
      "  interactivity=interactivity, compiler=compiler, result=result)\n"
     ]
    },
    {
     "data": {
      "text/html": [
       "<div>\n",
       "<style scoped>\n",
       "    .dataframe tbody tr th:only-of-type {\n",
       "        vertical-align: middle;\n",
       "    }\n",
       "\n",
       "    .dataframe tbody tr th {\n",
       "        vertical-align: top;\n",
       "    }\n",
       "\n",
       "    .dataframe thead th {\n",
       "        text-align: right;\n",
       "    }\n",
       "</style>\n",
       "<table border=\"1\" class=\"dataframe\">\n",
       "  <thead>\n",
       "    <tr style=\"text-align: right;\">\n",
       "      <th></th>\n",
       "      <th>businessname</th>\n",
       "      <th>dbaname</th>\n",
       "      <th>legalowner</th>\n",
       "      <th>namelast</th>\n",
       "      <th>namefirst</th>\n",
       "      <th>licenseno</th>\n",
       "      <th>issdttm</th>\n",
       "      <th>expdttm</th>\n",
       "      <th>licstatus</th>\n",
       "      <th>licensecat</th>\n",
       "      <th>...</th>\n",
       "      <th>violdttm</th>\n",
       "      <th>violstatus</th>\n",
       "      <th>statusdate</th>\n",
       "      <th>comments</th>\n",
       "      <th>address</th>\n",
       "      <th>city</th>\n",
       "      <th>state</th>\n",
       "      <th>zip</th>\n",
       "      <th>property_id</th>\n",
       "      <th>location</th>\n",
       "    </tr>\n",
       "  </thead>\n",
       "  <tbody>\n",
       "    <tr>\n",
       "      <th>0</th>\n",
       "      <td>100 Percent Delicia Food</td>\n",
       "      <td>NaN</td>\n",
       "      <td>BRENNAN PATRICK E</td>\n",
       "      <td>Marte</td>\n",
       "      <td>Civelis</td>\n",
       "      <td>87059</td>\n",
       "      <td>2013-04-05 12:47:23</td>\n",
       "      <td>2020-12-31 23:59:00</td>\n",
       "      <td>Active</td>\n",
       "      <td>FS</td>\n",
       "      <td>...</td>\n",
       "      <td>2013-02-15 12:19:42</td>\n",
       "      <td>Fail</td>\n",
       "      <td>NaN</td>\n",
       "      <td>Provide glass storage rack.</td>\n",
       "      <td>635   Hyde Park AVE</td>\n",
       "      <td>Roslindale</td>\n",
       "      <td>MA</td>\n",
       "      <td>02131</td>\n",
       "      <td>77476.0</td>\n",
       "      <td>(42.278590000, -71.119440000)</td>\n",
       "    </tr>\n",
       "    <tr>\n",
       "      <th>1</th>\n",
       "      <td>100 Percent Delicia Food</td>\n",
       "      <td>NaN</td>\n",
       "      <td>BRENNAN PATRICK E</td>\n",
       "      <td>Marte</td>\n",
       "      <td>Civelis</td>\n",
       "      <td>87059</td>\n",
       "      <td>2013-04-05 12:47:23</td>\n",
       "      <td>2020-12-31 23:59:00</td>\n",
       "      <td>Active</td>\n",
       "      <td>FS</td>\n",
       "      <td>...</td>\n",
       "      <td>2013-02-15 12:19:42</td>\n",
       "      <td>Fail</td>\n",
       "      <td>NaN</td>\n",
       "      <td>Provide dish rack over 3 bay sink to replace m...</td>\n",
       "      <td>635   Hyde Park AVE</td>\n",
       "      <td>Roslindale</td>\n",
       "      <td>MA</td>\n",
       "      <td>02131</td>\n",
       "      <td>77476.0</td>\n",
       "      <td>(42.278590000, -71.119440000)</td>\n",
       "    </tr>\n",
       "    <tr>\n",
       "      <th>2</th>\n",
       "      <td>100 Percent Delicia Food</td>\n",
       "      <td>NaN</td>\n",
       "      <td>BRENNAN PATRICK E</td>\n",
       "      <td>Marte</td>\n",
       "      <td>Civelis</td>\n",
       "      <td>87059</td>\n",
       "      <td>2013-04-05 12:47:23</td>\n",
       "      <td>2020-12-31 23:59:00</td>\n",
       "      <td>Active</td>\n",
       "      <td>FS</td>\n",
       "      <td>...</td>\n",
       "      <td>2013-02-15 12:19:42</td>\n",
       "      <td>Fail</td>\n",
       "      <td>NaN</td>\n",
       "      <td>Provide dish washer at ware washing area.</td>\n",
       "      <td>635   Hyde Park AVE</td>\n",
       "      <td>Roslindale</td>\n",
       "      <td>MA</td>\n",
       "      <td>02131</td>\n",
       "      <td>77476.0</td>\n",
       "      <td>(42.278590000, -71.119440000)</td>\n",
       "    </tr>\n",
       "    <tr>\n",
       "      <th>3</th>\n",
       "      <td>100 Percent Delicia Food</td>\n",
       "      <td>NaN</td>\n",
       "      <td>BRENNAN PATRICK E</td>\n",
       "      <td>Marte</td>\n",
       "      <td>Civelis</td>\n",
       "      <td>87059</td>\n",
       "      <td>2013-04-05 12:47:23</td>\n",
       "      <td>2020-12-31 23:59:00</td>\n",
       "      <td>Active</td>\n",
       "      <td>FS</td>\n",
       "      <td>...</td>\n",
       "      <td>2013-02-15 12:19:42</td>\n",
       "      <td>Fail</td>\n",
       "      <td>NaN</td>\n",
       "      <td>Provide mop sink at basement.</td>\n",
       "      <td>635   Hyde Park AVE</td>\n",
       "      <td>Roslindale</td>\n",
       "      <td>MA</td>\n",
       "      <td>02131</td>\n",
       "      <td>77476.0</td>\n",
       "      <td>(42.278590000, -71.119440000)</td>\n",
       "    </tr>\n",
       "    <tr>\n",
       "      <th>4</th>\n",
       "      <td>100 Percent Delicia Food</td>\n",
       "      <td>NaN</td>\n",
       "      <td>BRENNAN PATRICK E</td>\n",
       "      <td>Marte</td>\n",
       "      <td>Civelis</td>\n",
       "      <td>87059</td>\n",
       "      <td>2013-04-05 12:47:23</td>\n",
       "      <td>2020-12-31 23:59:00</td>\n",
       "      <td>Active</td>\n",
       "      <td>FS</td>\n",
       "      <td>...</td>\n",
       "      <td>2013-02-15 12:19:42</td>\n",
       "      <td>Fail</td>\n",
       "      <td>NaN</td>\n",
       "      <td>No hand sink at Bar Area  provide.</td>\n",
       "      <td>635   Hyde Park AVE</td>\n",
       "      <td>Roslindale</td>\n",
       "      <td>MA</td>\n",
       "      <td>02131</td>\n",
       "      <td>77476.0</td>\n",
       "      <td>(42.278590000, -71.119440000)</td>\n",
       "    </tr>\n",
       "  </tbody>\n",
       "</table>\n",
       "<p>5 rows × 26 columns</p>\n",
       "</div>"
      ],
      "text/plain": [
       "               businessname dbaname         legalowner namelast namefirst  \\\n",
       "0  100 Percent Delicia Food     NaN  BRENNAN PATRICK E    Marte   Civelis   \n",
       "1  100 Percent Delicia Food     NaN  BRENNAN PATRICK E    Marte   Civelis   \n",
       "2  100 Percent Delicia Food     NaN  BRENNAN PATRICK E    Marte   Civelis   \n",
       "3  100 Percent Delicia Food     NaN  BRENNAN PATRICK E    Marte   Civelis   \n",
       "4  100 Percent Delicia Food     NaN  BRENNAN PATRICK E    Marte   Civelis   \n",
       "\n",
       "   licenseno              issdttm              expdttm licstatus licensecat  \\\n",
       "0      87059  2013-04-05 12:47:23  2020-12-31 23:59:00    Active         FS   \n",
       "1      87059  2013-04-05 12:47:23  2020-12-31 23:59:00    Active         FS   \n",
       "2      87059  2013-04-05 12:47:23  2020-12-31 23:59:00    Active         FS   \n",
       "3      87059  2013-04-05 12:47:23  2020-12-31 23:59:00    Active         FS   \n",
       "4      87059  2013-04-05 12:47:23  2020-12-31 23:59:00    Active         FS   \n",
       "\n",
       "   ...             violdttm violstatus statusdate  \\\n",
       "0  ...  2013-02-15 12:19:42       Fail        NaN   \n",
       "1  ...  2013-02-15 12:19:42       Fail        NaN   \n",
       "2  ...  2013-02-15 12:19:42       Fail        NaN   \n",
       "3  ...  2013-02-15 12:19:42       Fail        NaN   \n",
       "4  ...  2013-02-15 12:19:42       Fail        NaN   \n",
       "\n",
       "                                            comments              address  \\\n",
       "0                        Provide glass storage rack.  635   Hyde Park AVE   \n",
       "1  Provide dish rack over 3 bay sink to replace m...  635   Hyde Park AVE   \n",
       "2          Provide dish washer at ware washing area.  635   Hyde Park AVE   \n",
       "3                      Provide mop sink at basement.  635   Hyde Park AVE   \n",
       "4                 No hand sink at Bar Area  provide.  635   Hyde Park AVE   \n",
       "\n",
       "         city state    zip property_id                       location  \n",
       "0  Roslindale    MA  02131     77476.0  (42.278590000, -71.119440000)  \n",
       "1  Roslindale    MA  02131     77476.0  (42.278590000, -71.119440000)  \n",
       "2  Roslindale    MA  02131     77476.0  (42.278590000, -71.119440000)  \n",
       "3  Roslindale    MA  02131     77476.0  (42.278590000, -71.119440000)  \n",
       "4  Roslindale    MA  02131     77476.0  (42.278590000, -71.119440000)  \n",
       "\n",
       "[5 rows x 26 columns]"
      ]
     },
     "execution_count": 16,
     "metadata": {},
     "output_type": "execute_result"
    }
   ],
   "source": [
    "rest = pd.read_csv('data/tmpfam2s8vv.csv')\n",
    "rest.head()"
   ]
  },
  {
   "cell_type": "code",
   "execution_count": 18,
   "metadata": {},
   "outputs": [
    {
     "data": {
      "text/plain": [
       "0         100 Percent Delicia Food\n",
       "1         100 Percent Delicia Food\n",
       "2         100 Percent Delicia Food\n",
       "3         100 Percent Delicia Food\n",
       "4         100 Percent Delicia Food\n",
       "                    ...           \n",
       "624744         Zume's Coffee House\n",
       "624745         Zume's Coffee House\n",
       "624746         Zume's Coffee House\n",
       "624747         Zume's Coffee House\n",
       "624748         Zume's Coffee House\n",
       "Name: businessname, Length: 624749, dtype: object"
      ]
     },
     "execution_count": 18,
     "metadata": {},
     "output_type": "execute_result"
    }
   ],
   "source": [
    "rest['businessname']"
   ]
  },
  {
   "cell_type": "code",
   "execution_count": null,
   "metadata": {},
   "outputs": [],
   "source": []
  }
 ],
 "metadata": {
  "kernelspec": {
   "display_name": "Python 3",
   "language": "python",
   "name": "python3"
  },
  "language_info": {
   "codemirror_mode": {
    "name": "ipython",
    "version": 3
   },
   "file_extension": ".py",
   "mimetype": "text/x-python",
   "name": "python",
   "nbconvert_exporter": "python",
   "pygments_lexer": "ipython3",
   "version": "3.7.6"
  }
 },
 "nbformat": 4,
 "nbformat_minor": 4
}
