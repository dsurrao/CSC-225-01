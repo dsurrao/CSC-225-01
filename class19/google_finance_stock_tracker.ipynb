{
 "cells": [
  {
   "cell_type": "markdown",
   "metadata": {},
   "source": [
    "### Source: https://github.com/jakevdp/PythonDataScienceHandbook\n",
    "\n",
    "Install pandas_datareader. From terminal ```conda install pandas-datareader```\n",
    "\n",
    "Documentation: https://pydata.github.io/pandas-datareader/devel/readers/yahoo.html"
   ]
  },
  {
   "cell_type": "code",
   "execution_count": 1,
   "metadata": {},
   "outputs": [],
   "source": [
    "from pandas_datareader import data"
   ]
  },
  {
   "cell_type": "code",
   "execution_count": 2,
   "metadata": {},
   "outputs": [
    {
     "data": {
      "text/html": [
       "<div>\n",
       "<style scoped>\n",
       "    .dataframe tbody tr th:only-of-type {\n",
       "        vertical-align: middle;\n",
       "    }\n",
       "\n",
       "    .dataframe tbody tr th {\n",
       "        vertical-align: top;\n",
       "    }\n",
       "\n",
       "    .dataframe thead th {\n",
       "        text-align: right;\n",
       "    }\n",
       "</style>\n",
       "<table border=\"1\" class=\"dataframe\">\n",
       "  <thead>\n",
       "    <tr style=\"text-align: right;\">\n",
       "      <th></th>\n",
       "      <th>High</th>\n",
       "      <th>Low</th>\n",
       "      <th>Open</th>\n",
       "      <th>Close</th>\n",
       "      <th>Volume</th>\n",
       "      <th>Adj Close</th>\n",
       "    </tr>\n",
       "    <tr>\n",
       "      <th>Date</th>\n",
       "      <th></th>\n",
       "      <th></th>\n",
       "      <th></th>\n",
       "      <th></th>\n",
       "      <th></th>\n",
       "      <th></th>\n",
       "    </tr>\n",
       "  </thead>\n",
       "  <tbody>\n",
       "    <tr>\n",
       "      <th>2020-11-05</th>\n",
       "      <td>1793.640015</td>\n",
       "      <td>1750.510010</td>\n",
       "      <td>1781.000000</td>\n",
       "      <td>1763.369995</td>\n",
       "      <td>2065800.0</td>\n",
       "      <td>1763.369995</td>\n",
       "    </tr>\n",
       "    <tr>\n",
       "      <th>2020-11-06</th>\n",
       "      <td>1772.430054</td>\n",
       "      <td>1740.349976</td>\n",
       "      <td>1753.949951</td>\n",
       "      <td>1761.750000</td>\n",
       "      <td>1660900.0</td>\n",
       "      <td>1761.750000</td>\n",
       "    </tr>\n",
       "    <tr>\n",
       "      <th>2020-11-09</th>\n",
       "      <td>1818.060059</td>\n",
       "      <td>1760.020020</td>\n",
       "      <td>1790.900024</td>\n",
       "      <td>1763.000000</td>\n",
       "      <td>2268300.0</td>\n",
       "      <td>1763.000000</td>\n",
       "    </tr>\n",
       "    <tr>\n",
       "      <th>2020-11-10</th>\n",
       "      <td>1763.000000</td>\n",
       "      <td>1717.300049</td>\n",
       "      <td>1731.089966</td>\n",
       "      <td>1740.390015</td>\n",
       "      <td>2634700.0</td>\n",
       "      <td>1740.390015</td>\n",
       "    </tr>\n",
       "    <tr>\n",
       "      <th>2020-11-11</th>\n",
       "      <td>1764.052490</td>\n",
       "      <td>1747.364990</td>\n",
       "      <td>1750.000000</td>\n",
       "      <td>1756.125000</td>\n",
       "      <td>960524.0</td>\n",
       "      <td>1756.125000</td>\n",
       "    </tr>\n",
       "  </tbody>\n",
       "</table>\n",
       "</div>"
      ],
      "text/plain": [
       "                   High          Low         Open        Close     Volume  \\\n",
       "Date                                                                        \n",
       "2020-11-05  1793.640015  1750.510010  1781.000000  1763.369995  2065800.0   \n",
       "2020-11-06  1772.430054  1740.349976  1753.949951  1761.750000  1660900.0   \n",
       "2020-11-09  1818.060059  1760.020020  1790.900024  1763.000000  2268300.0   \n",
       "2020-11-10  1763.000000  1717.300049  1731.089966  1740.390015  2634700.0   \n",
       "2020-11-11  1764.052490  1747.364990  1750.000000  1756.125000   960524.0   \n",
       "\n",
       "              Adj Close  \n",
       "Date                     \n",
       "2020-11-05  1763.369995  \n",
       "2020-11-06  1761.750000  \n",
       "2020-11-09  1763.000000  \n",
       "2020-11-10  1740.390015  \n",
       "2020-11-11  1756.125000  "
      ]
     },
     "execution_count": 2,
     "metadata": {},
     "output_type": "execute_result"
    }
   ],
   "source": [
    "goog = data.DataReader('GOOG', start='2010', end='2021', data_source='yahoo')\n",
    "goog.tail()"
   ]
  },
  {
   "cell_type": "code",
   "execution_count": 3,
   "metadata": {},
   "outputs": [
    {
     "data": {
      "text/plain": [
       "Date\n",
       "2010-01-04    312.204773\n",
       "2010-01-05    310.829926\n",
       "2010-01-06    302.994293\n",
       "2010-01-07    295.940735\n",
       "2010-01-08    299.885956\n",
       "Name: Close, dtype: float64"
      ]
     },
     "execution_count": 3,
     "metadata": {},
     "output_type": "execute_result"
    }
   ],
   "source": [
    "goog_close = goog['Close']\n",
    "goog_close.head()"
   ]
  },
  {
   "cell_type": "code",
   "execution_count": 4,
   "metadata": {},
   "outputs": [
    {
     "data": {
      "text/plain": [
       "<matplotlib.axes._subplots.AxesSubplot at 0x7fc7150bdb10>"
      ]
     },
     "execution_count": 4,
     "metadata": {},
     "output_type": "execute_result"
    },
    {
     "data": {
      "image/png": "[encoded data removed]",
      "text/plain": [
       "<Figure size 432x288 with 1 Axes>"
      ]
     },
     "metadata": {},
     "output_type": "display_data"
    }
   ],
   "source": [
    "import matplotlib.pyplot as plt\n",
    "import seaborn; seaborn.set()\n",
    "\n",
    "goog_close.plot()"
   ]
  }
 ],
 "metadata": {
  "kernelspec": {
   "display_name": "Python 3",
   "language": "python",
   "name": "python3"
  },
  "language_info": {
   "codemirror_mode": {
    "name": "ipython",
    "version": 3
   },
   "file_extension": ".py",
   "mimetype": "text/x-python",
   "name": "python",
   "nbconvert_exporter": "python",
   "pygments_lexer": "ipython3",
   "version": "3.7.6"
  }
 },
 "nbformat": 4,
 "nbformat_minor": 4
}
