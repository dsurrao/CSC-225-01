{
 "cells": [
  {
   "cell_type": "markdown",
   "metadata": {},
   "source": [
    "### Locations of all Big Belly trash receptacles in the city\n",
    "\n",
    "Data URL: https://data.boston.gov/dataset/8ea35b68-534e-4ded-af07-c224cf4b71dc/resource/15e7fa44-b9a8-42da-82e1-304e43460095/download/big-belly-locations.csv"
   ]
  },
  {
   "cell_type": "markdown",
   "metadata": {},
   "source": [
    "### Documentation\n",
    "https://pandas.pydata.org/docs/reference/frame.html\n",
    "\n",
    "https://matplotlib.org/contents.html"
   ]
  },
  {
   "cell_type": "code",
   "execution_count": null,
   "metadata": {},
   "outputs": [],
   "source": [
    "import numpy as np\n",
    "import pandas as pd"
   ]
  },
  {
   "cell_type": "code",
   "execution_count": null,
   "metadata": {},
   "outputs": [],
   "source": [
    "locations = pd.read_csv('data/boston-big-belly-locations.csv', dtype='string')\n",
    "# TODO 1: examine data types in this DataFrame"
   ]
  },
  {
   "cell_type": "code",
   "execution_count": null,
   "metadata": {},
   "outputs": [],
   "source": [
    "locations.head()\n",
    "# TODO 2: use the dropna() method to drop empty values"
   ]
  },
  {
   "cell_type": "code",
   "execution_count": null,
   "metadata": {},
   "outputs": [],
   "source": [
    "def get_latitude(location):\n",
    "    return location.lstrip('(').rstrip(')').split(',')[0]\n",
    "\n",
    "def get_longitude(location):\n",
    "    return location.lstrip('(').rstrip(')').split(',')[1]"
   ]
  },
  {
   "cell_type": "code",
   "execution_count": null,
   "metadata": {},
   "outputs": [],
   "source": [
    "# TODO 3: use the apply() method with the above functions to create two new \n",
    "# fields 'latitude' and 'longitude' in the data frame\n",
    "# https://pandas.pydata.org/docs/reference/api/pandas.Series.apply.html?highlight=apply#pandas.Series.apply\n",
    "\n",
    "# Example: df['newfield'] = df['existingfield'].apply(functionname)\n",
    "\n",
    "locations = locations.astype({'latitude': 'float32', 'longitude': 'float32'})"
   ]
  },
  {
   "cell_type": "code",
   "execution_count": null,
   "metadata": {},
   "outputs": [],
   "source": [
    "locations.head()"
   ]
  },
  {
   "cell_type": "code",
   "execution_count": null,
   "metadata": {},
   "outputs": [],
   "source": [
    "%matplotlib inline\n",
    "import matplotlib.pyplot as plt\n",
    "\n",
    "# TODO 4: create a scatter plot with 'longitude' on the x-axis, and \n",
    "# 'latitude on the y-axis'; set an alpha value on the dot for translucency\n",
    "# https://matplotlib.org/api/_as_gen/matplotlib.pyplot.scatter.html?highlight=scatter#matplotlib.pyplot.scatter\n",
    "# Example: df.plot(kind='scatter', x='fieldname1', y='fieldname2', ...)"
   ]
  },
  {
   "cell_type": "code",
   "execution_count": null,
   "metadata": {},
   "outputs": [],
   "source": [
    "# TODO 5: filter the DataFrame by locations on Boyston Street\n",
    "# Example: df[df['fieldname'].str.containts('searchstring')]"
   ]
  },
  {
   "cell_type": "code",
   "execution_count": null,
   "metadata": {},
   "outputs": [],
   "source": []
  }
 ],
 "metadata": {
  "kernelspec": {
   "display_name": "Python 3",
   "language": "python",
   "name": "python3"
  },
  "language_info": {
   "codemirror_mode": {
    "name": "ipython",
    "version": 3
   },
   "file_extension": ".py",
   "mimetype": "text/x-python",
   "name": "python",
   "nbconvert_exporter": "python",
   "pygments_lexer": "ipython3",
   "version": "3.7.6"
  }
 },
 "nbformat": 4,
 "nbformat_minor": 4
}
